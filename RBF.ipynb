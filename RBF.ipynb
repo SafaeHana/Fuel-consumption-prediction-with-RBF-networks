{
 "cells": [
  {
   "cell_type": "markdown",
   "id": "98886400",
   "metadata": {},
   "source": [
    "# Utilisation des réseaux RBF (Radial basis function) pour la prédiction de la consommation de carburant en miles par gallon"
   ]
  },
  {
   "cell_type": "markdown",
   "id": "7c381fd4",
   "metadata": {},
   "source": [
    "Importez les bibliothèques nécessaires : Utilisez les commandes suivantes pour importer les bibliothèques nécessaires, comme pandas et numpy :"
   ]
  },
  {
   "cell_type": "code",
   "execution_count": 2,
   "id": "e10f69cd",
   "metadata": {},
   "outputs": [],
   "source": [
    "import pandas as pd\n",
    "import numpy as np\n"
   ]
  },
  {
   "cell_type": "markdown",
   "id": "8fa5d919",
   "metadata": {},
   "source": [
    "Téléchargez les données : Utilisez la commande pandas 'read_csv' pour télécharger les données à partir du lien fourni (https://archive.ics.uci.edu/ml/datasets/auto+mpg) et les stocker dans un dataframe :"
   ]
  },
  {
   "cell_type": "code",
   "execution_count": 3,
   "id": "0a7ab588",
   "metadata": {},
   "outputs": [],
   "source": [
    "url = \"https://archive.ics.uci.edu/ml/machine-learning-databases/auto-mpg/auto-mpg.data\"\n",
    "data = pd.read_csv(url, delim_whitespace=True, header=None,\n",
    "                      names=['mpg', 'cylinders', 'displacement', 'horsepower',\n",
    "                             'weight', 'acceleration', 'model_year', 'origin', 'name'])\n"
   ]
  },
  {
   "cell_type": "markdown",
   "id": "45ba7666",
   "metadata": {},
   "source": [
    "Analysez les données : Utilisez les commandes de pandas pour afficher un aperçu des données et identifier les colonnes qui seront utilisées en tant qu'entrées et sorties pour le modèle :"
   ]
  },
  {
   "cell_type": "code",
   "execution_count": 4,
   "id": "e8e43d28",
   "metadata": {},
   "outputs": [
    {
     "data": {
      "text/html": [
       "<div>\n",
       "<style scoped>\n",
       "    .dataframe tbody tr th:only-of-type {\n",
       "        vertical-align: middle;\n",
       "    }\n",
       "\n",
       "    .dataframe tbody tr th {\n",
       "        vertical-align: top;\n",
       "    }\n",
       "\n",
       "    .dataframe thead th {\n",
       "        text-align: right;\n",
       "    }\n",
       "</style>\n",
       "<table border=\"1\" class=\"dataframe\">\n",
       "  <thead>\n",
       "    <tr style=\"text-align: right;\">\n",
       "      <th></th>\n",
       "      <th>mpg</th>\n",
       "      <th>cylinders</th>\n",
       "      <th>displacement</th>\n",
       "      <th>weight</th>\n",
       "      <th>acceleration</th>\n",
       "      <th>model_year</th>\n",
       "      <th>origin</th>\n",
       "    </tr>\n",
       "  </thead>\n",
       "  <tbody>\n",
       "    <tr>\n",
       "      <th>count</th>\n",
       "      <td>398.000000</td>\n",
       "      <td>398.000000</td>\n",
       "      <td>398.000000</td>\n",
       "      <td>398.000000</td>\n",
       "      <td>398.000000</td>\n",
       "      <td>398.000000</td>\n",
       "      <td>398.000000</td>\n",
       "    </tr>\n",
       "    <tr>\n",
       "      <th>mean</th>\n",
       "      <td>23.514573</td>\n",
       "      <td>5.454774</td>\n",
       "      <td>193.425879</td>\n",
       "      <td>2970.424623</td>\n",
       "      <td>15.568090</td>\n",
       "      <td>76.010050</td>\n",
       "      <td>1.572864</td>\n",
       "    </tr>\n",
       "    <tr>\n",
       "      <th>std</th>\n",
       "      <td>7.815984</td>\n",
       "      <td>1.701004</td>\n",
       "      <td>104.269838</td>\n",
       "      <td>846.841774</td>\n",
       "      <td>2.757689</td>\n",
       "      <td>3.697627</td>\n",
       "      <td>0.802055</td>\n",
       "    </tr>\n",
       "    <tr>\n",
       "      <th>min</th>\n",
       "      <td>9.000000</td>\n",
       "      <td>3.000000</td>\n",
       "      <td>68.000000</td>\n",
       "      <td>1613.000000</td>\n",
       "      <td>8.000000</td>\n",
       "      <td>70.000000</td>\n",
       "      <td>1.000000</td>\n",
       "    </tr>\n",
       "    <tr>\n",
       "      <th>25%</th>\n",
       "      <td>17.500000</td>\n",
       "      <td>4.000000</td>\n",
       "      <td>104.250000</td>\n",
       "      <td>2223.750000</td>\n",
       "      <td>13.825000</td>\n",
       "      <td>73.000000</td>\n",
       "      <td>1.000000</td>\n",
       "    </tr>\n",
       "    <tr>\n",
       "      <th>50%</th>\n",
       "      <td>23.000000</td>\n",
       "      <td>4.000000</td>\n",
       "      <td>148.500000</td>\n",
       "      <td>2803.500000</td>\n",
       "      <td>15.500000</td>\n",
       "      <td>76.000000</td>\n",
       "      <td>1.000000</td>\n",
       "    </tr>\n",
       "    <tr>\n",
       "      <th>75%</th>\n",
       "      <td>29.000000</td>\n",
       "      <td>8.000000</td>\n",
       "      <td>262.000000</td>\n",
       "      <td>3608.000000</td>\n",
       "      <td>17.175000</td>\n",
       "      <td>79.000000</td>\n",
       "      <td>2.000000</td>\n",
       "    </tr>\n",
       "    <tr>\n",
       "      <th>max</th>\n",
       "      <td>46.600000</td>\n",
       "      <td>8.000000</td>\n",
       "      <td>455.000000</td>\n",
       "      <td>5140.000000</td>\n",
       "      <td>24.800000</td>\n",
       "      <td>82.000000</td>\n",
       "      <td>3.000000</td>\n",
       "    </tr>\n",
       "  </tbody>\n",
       "</table>\n",
       "</div>"
      ],
      "text/plain": [
       "              mpg   cylinders  displacement       weight  acceleration  \\\n",
       "count  398.000000  398.000000    398.000000   398.000000    398.000000   \n",
       "mean    23.514573    5.454774    193.425879  2970.424623     15.568090   \n",
       "std      7.815984    1.701004    104.269838   846.841774      2.757689   \n",
       "min      9.000000    3.000000     68.000000  1613.000000      8.000000   \n",
       "25%     17.500000    4.000000    104.250000  2223.750000     13.825000   \n",
       "50%     23.000000    4.000000    148.500000  2803.500000     15.500000   \n",
       "75%     29.000000    8.000000    262.000000  3608.000000     17.175000   \n",
       "max     46.600000    8.000000    455.000000  5140.000000     24.800000   \n",
       "\n",
       "       model_year      origin  \n",
       "count  398.000000  398.000000  \n",
       "mean    76.010050    1.572864  \n",
       "std      3.697627    0.802055  \n",
       "min     70.000000    1.000000  \n",
       "25%     73.000000    1.000000  \n",
       "50%     76.000000    1.000000  \n",
       "75%     79.000000    2.000000  \n",
       "max     82.000000    3.000000  "
      ]
     },
     "execution_count": 4,
     "metadata": {},
     "output_type": "execute_result"
    }
   ],
   "source": [
    "data.head()\n",
    "data.describe()\n"
   ]
  },
  {
   "cell_type": "markdown",
   "id": "fd113207",
   "metadata": {},
   "source": [
    "Nettoyer les données : Utilisez les commandes de pandas pour nettoyer les données en supprimant les lignes avec des valeurs manquantes ou aberrantes :"
   ]
  },
  {
   "cell_type": "code",
   "execution_count": 5,
   "id": "718530ee",
   "metadata": {},
   "outputs": [],
   "source": [
    "data = data.dropna()\n",
    "data = data[data.horsepower != '?']\n"
   ]
  },
  {
   "cell_type": "markdown",
   "id": "cabf1672",
   "metadata": {},
   "source": [
    "Préparez les données : Utilisez les commandes numpy pour crer les tableaux numpy qui contiendront les entrées et les sorties pour l'entraînement du modèle :"
   ]
  },
  {
   "cell_type": "code",
   "execution_count": 6,
   "id": "0f092a15",
   "metadata": {},
   "outputs": [],
   "source": [
    "X = data[['cylinders', 'displacement', 'horsepower', 'weight', 'acceleration', 'model_year', 'origin']].values\n",
    "y = data[['mpg']].values\n"
   ]
  },
  {
   "cell_type": "markdown",
   "id": "ec61abf6",
   "metadata": {},
   "source": [
    "Normalisez les données : Utilisez les commandes de scikit-learn pour normaliser les données d'entrée pour que les valeurs se situent entre 0 et 1 :"
   ]
  },
  {
   "cell_type": "code",
   "execution_count": 7,
   "id": "f7f67e3a",
   "metadata": {},
   "outputs": [],
   "source": [
    "from sklearn.preprocessing import MinMaxScaler\n",
    "scaler = MinMaxScaler()\n",
    "X = scaler.fit_transform(X)\n"
   ]
  },
  {
   "cell_type": "markdown",
   "id": "14f07a9f",
   "metadata": {},
   "source": [
    "Séparez les données en ensemble d'entraînement et de test : Utilisez les commandes de scikit-learn pour séparer les données en un ensemble d'entraînement (généralement 80%) et un ensemble de test (20%) :"
   ]
  },
  {
   "cell_type": "code",
   "execution_count": 8,
   "id": "f0f7eb47",
   "metadata": {},
   "outputs": [],
   "source": [
    "from sklearn.model_selection import train_test_split\n",
    "X_train, X_test, y_train, y_test = train_test_split(X, y, test_size=0.2)\n"
   ]
  },
  {
   "cell_type": "markdown",
   "id": "d3f43c7f",
   "metadata": {},
   "source": [
    "Importer la bibliothèque : Utilisez les commandes suivantes pour importer la bibliothèque nécessaire pour entraîner un modèle RBF, comme scikit-learn :"
   ]
  },
  {
   "cell_type": "code",
   "execution_count": 9,
   "id": "19dc84ab",
   "metadata": {},
   "outputs": [],
   "source": [
    "from sklearn.neural_network import MLPRegressor\n"
   ]
  },
  {
   "cell_type": "markdown",
   "id": "b6f46f08",
   "metadata": {},
   "source": [
    "Initialiser le modèle : Utilisez la fonction 'MLPRegressor' pour initialiser un objet de modèle :"
   ]
  },
  {
   "cell_type": "code",
   "execution_count": 10,
   "id": "c3636db3",
   "metadata": {},
   "outputs": [],
   "source": [
    "rbf_model = MLPRegressor(hidden_layer_sizes=(5,5), activation='logistic', solver='lbfgs',max_iter=1000)\n"
   ]
  },
  {
   "cell_type": "markdown",
   "id": "aae5284e",
   "metadata": {},
   "source": [
    "Entraîner le modèle : Utilisez la méthode 'fit' de l'objet de modèle pour entraîner le modèle en utilisant les données d'entraînement :\n"
   ]
  },
  {
   "cell_type": "markdown",
   "id": "5e1f2296",
   "metadata": {},
   "source": [
    "Evaluer la performance : Utilisez la méthode 'predict' de l'objet de modèle pour faire des prédictions sur les données de test et utilisez des métriques de performance comme le coefficient de détermination (R²) pour évaluer la performance du modèle:"
   ]
  },
  {
   "cell_type": "code",
   "execution_count": 22,
   "id": "1434fa26",
   "metadata": {},
   "outputs": [
    {
     "name": "stderr",
     "output_type": "stream",
     "text": [
      "C:\\ProgramData\\Anaconda3\\lib\\site-packages\\sklearn\\neural_network\\_multilayer_perceptron.py:1599: DataConversionWarning: A column-vector y was passed when a 1d array was expected. Please change the shape of y to (n_samples, ), for example using ravel().\n",
      "  y = column_or_1d(y, warn=True)\n",
      "C:\\ProgramData\\Anaconda3\\lib\\site-packages\\sklearn\\neural_network\\_multilayer_perceptron.py:549: ConvergenceWarning: lbfgs failed to converge (status=1):\n",
      "STOP: TOTAL NO. of ITERATIONS REACHED LIMIT.\n",
      "\n",
      "Increase the number of iterations (max_iter) or scale the data as shown in:\n",
      "    https://scikit-learn.org/stable/modules/preprocessing.html\n",
      "  self.n_iter_ = _check_optimize_result(\"lbfgs\", opt_res, self.max_iter)\n"
     ]
    },
    {
     "data": {
      "text/plain": [
       "MLPRegressor(activation='logistic', hidden_layer_sizes=(5, 5), max_iter=2000,\n",
       "             solver='lbfgs')"
      ]
     },
     "execution_count": 22,
     "metadata": {},
     "output_type": "execute_result"
    }
   ],
   "source": [
    "rbf_model.fit(X_train, y_train)"
   ]
  },
  {
   "cell_type": "code",
   "execution_count": 23,
   "id": "99c3a13d",
   "metadata": {},
   "outputs": [
    {
     "name": "stdout",
     "output_type": "stream",
     "text": [
      "R2:  0.7521260037116597\n"
     ]
    }
   ],
   "source": [
    "y_pred = rbf_model.predict(X_test)\n",
    "from sklearn.metrics import r2_score\n",
    "print(\"R2: \", r2_score(y_test, y_pred))\n"
   ]
  },
  {
   "cell_type": "markdown",
   "id": "b65fb190",
   "metadata": {},
   "source": [
    "Prédire les résultats : Utilisez la méthode 'predict' de l'objet de modèle entraîné pour faire des prévisions sur les données de test."
   ]
  },
  {
   "cell_type": "code",
   "execution_count": 25,
   "id": "fdf4ff40",
   "metadata": {},
   "outputs": [],
   "source": [
    "y_pred = rbf_model.predict(X_test)\n"
   ]
  },
  {
   "cell_type": "markdown",
   "id": "a0ab7375",
   "metadata": {},
   "source": [
    "Utiliser des métriques de performance : Utilisez des métriques de performance comme le coefficient de détermination (R²) pour évaluer la performance du modèle."
   ]
  },
  {
   "cell_type": "code",
   "execution_count": 26,
   "id": "3478e7ef",
   "metadata": {},
   "outputs": [
    {
     "name": "stdout",
     "output_type": "stream",
     "text": [
      "R2:  0.7521260037116597\n"
     ]
    }
   ],
   "source": [
    "from sklearn.metrics import r2_score\n",
    "print(\"R2: \", r2_score(y_test, y_pred))\n"
   ]
  },
  {
   "cell_type": "markdown",
   "id": "21463423",
   "metadata": {},
   "source": [
    "Utiliser des graphiques: Utilisez des graphiques pour visualiser les prédictions du modèle et les résultats réels."
   ]
  },
  {
   "cell_type": "code",
   "execution_count": 27,
   "id": "47cdd582",
   "metadata": {},
   "outputs": [
    {
     "data": {
      "image/png": "[encoded data removed]",
      "text/plain": [
       "<Figure size 640x480 with 1 Axes>"
      ]
     },
     "metadata": {},
     "output_type": "display_data"
    }
   ],
   "source": [
    "import matplotlib.pyplot as plt\n",
    "plt.scatter(y_test, y_pred)\n",
    "plt.xlabel('True Values')\n",
    "plt.ylabel('Predictions')\n",
    "plt.show()\n"
   ]
  },
  {
   "cell_type": "markdown",
   "id": "8f9cb18c",
   "metadata": {},
   "source": [
    "Utiliser la méthode 'predict': Utilisez la méthode 'predict' de l'objet de modèle entraîné pour faire des prévisions sur les données de test."
   ]
  },
  {
   "cell_type": "code",
   "execution_count": 29,
   "id": "8c061404",
   "metadata": {},
   "outputs": [
    {
     "name": "stdout",
     "output_type": "stream",
     "text": [
      "Predicted MPG:  [8.23944323]\n"
     ]
    }
   ],
   "source": [
    "new_data = [[5, 170, 85, 5, 170, 85, 5]] \n",
    "predictions = rbf_model.predict(new_data)\n",
    "print(\"Predicted MPG: \", predictions)\n"
   ]
  },
  {
   "cell_type": "code",
   "execution_count": null,
   "id": "95032059",
   "metadata": {},
   "outputs": [],
   "source": []
  }
 ],
 "metadata": {
  "kernelspec": {
   "display_name": "Python 3 (ipykernel)",
   "language": "python",
   "name": "python3"
  },
  "language_info": {
   "codemirror_mode": {
    "name": "ipython",
    "version": 3
   },
   "file_extension": ".py",
   "mimetype": "text/x-python",
   "name": "python",
   "nbconvert_exporter": "python",
   "pygments_lexer": "ipython3",
   "version": "3.9.13"
  }
 },
 "nbformat": 4,
 "nbformat_minor": 5
}
